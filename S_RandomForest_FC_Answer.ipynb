{
 "cells": [
  {
   "cell_type": "code",
   "execution_count": null,
   "id": "b636ae97",
   "metadata": {
    "ExecuteTime": {
     "end_time": "2022-09-18T06:23:31.954874Z",
     "start_time": "2022-09-18T06:23:31.954874Z"
    }
   },
   "outputs": [],
   "source": [
    "import pandas as pd\n",
    "import numpy as np\n",
    "import matplotlib.pyplot as plt"
   ]
  },
  {
   "cell_type": "code",
   "execution_count": null,
   "id": "871e8874",
   "metadata": {
    "ExecuteTime": {
     "end_time": "2022-09-18T06:23:31.954874Z",
     "start_time": "2022-09-18T06:23:31.954874Z"
    }
   },
   "outputs": [],
   "source": [
    "fraud = pd.read_csv(\"Fraud_Check.csv\")"
   ]
  },
  {
   "cell_type": "code",
   "execution_count": null,
   "id": "ccc43633",
   "metadata": {
    "ExecuteTime": {
     "end_time": "2022-09-18T06:23:31.963085Z",
     "start_time": "2022-09-18T06:23:31.963085Z"
    }
   },
   "outputs": [],
   "source": [
    "fraud[\"income\"]=\"<=30000\"\n",
    "fraud.loc[fraud[\"Taxable.Income\"]>=30000,\"income\"]=\"Good\"\n",
    "fraud.loc[fraud[\"Taxable.Income\"]<=30000,\"income\"]=\"Risky\""
   ]
  },
  {
   "cell_type": "code",
   "execution_count": null,
   "id": "1a26b9ec",
   "metadata": {
    "ExecuteTime": {
     "end_time": "2022-09-18T06:23:31.971082Z",
     "start_time": "2022-09-18T06:23:31.971082Z"
    }
   },
   "outputs": [],
   "source": [
    "fraud.drop([\"Taxable.Income\"],axis=1,inplace=True)"
   ]
  },
  {
   "cell_type": "code",
   "execution_count": null,
   "id": "c7dc7944",
   "metadata": {
    "ExecuteTime": {
     "end_time": "2022-09-18T06:23:31.971082Z",
     "start_time": "2022-09-18T06:23:31.971082Z"
    }
   },
   "outputs": [],
   "source": [
    "fraud.rename(columns={\"undergrad\",\"Marital.Status\":\"marital\",\"City.Population\":\"population\",\"Work.Experience\":\"experience\",\"Urban\":\"urban\"},inplac"
   ]
  },
  {
   "cell_type": "code",
   "execution_count": null,
   "id": "b0a2131f",
   "metadata": {
    "ExecuteTime": {
     "end_time": "2022-09-18T06:23:31.981259Z",
     "start_time": "2022-09-18T06:23:31.981259Z"
    }
   },
   "outputs": [],
   "source": [
    "from sklearn import preprocessing\n",
    "le=preprocessing.LabelEncoder()\n",
    "for column_name in fraud.columns:\n",
    "    if fraud[column_name].dtype == object:\n",
    "        fraud[column_name] = le.fit_transform(fraud[column_name])\n",
    "    else:\n",
    "        pass"
   ]
  },
  {
   "cell_type": "code",
   "execution_count": null,
   "id": "9bc55371",
   "metadata": {
    "ExecuteTime": {
     "end_time": "2022-09-18T06:23:31.985031Z",
     "start_time": "2022-09-18T06:23:31.985031Z"
    }
   },
   "outputs": [],
   "source": [
    "features = fraud.iloc[:,0:5]\n",
    "labels = fraud.iloc[:,5]"
   ]
  },
  {
   "cell_type": "code",
   "execution_count": null,
   "id": "2bb1e6d5",
   "metadata": {
    "ExecuteTime": {
     "end_time": "2022-09-18T06:23:31.988573Z",
     "start_time": "2022-09-18T06:23:31.988573Z"
    }
   },
   "outputs": [],
   "source": [
    "colnames = list(fraud.columns)\n",
    "predictors = colnames[0:5]\n",
    "target = colnames[5]"
   ]
  },
  {
   "cell_type": "code",
   "execution_count": null,
   "id": "14798f2b",
   "metadata": {
    "ExecuteTime": {
     "end_time": "2022-09-18T06:23:31.990814Z",
     "start_time": "2022-09-18T06:23:31.990814Z"
    }
   },
   "outputs": [],
   "source": [
    "from sklearn.model_selection import train_test_split\n",
    "x_train,x_test,y_train,y_test = train_test_split(features,labels,test_size = 0.2,stratify = labels)"
   ]
  },
  {
   "cell_type": "code",
   "execution_count": null,
   "id": "de5c7486",
   "metadata": {
    "ExecuteTime": {
     "end_time": "2022-09-18T06:23:31.992006Z",
     "start_time": "2022-09-18T06:23:31.992006Z"
    }
   },
   "outputs": [],
   "source": [
    "from sklearn.ensemble import RandomForestClassifier as RF\n",
    "model = RF(n_jobs = 3,n_estimators = 15, oob_score = True, criterion = \"entropy\")\n",
    "model.fit(x_train,y_train)"
   ]
  },
  {
   "cell_type": "code",
   "execution_count": null,
   "id": "86c975df",
   "metadata": {
    "ExecuteTime": {
     "end_time": "2022-09-18T06:23:31.996197Z",
     "start_time": "2022-09-18T06:23:31.996197Z"
    }
   },
   "outputs": [],
   "source": [
    "model.estimators_\n",
    "model.classes_\n",
    "model.n_features_\n",
    "model.n_classes_"
   ]
  },
  {
   "cell_type": "code",
   "execution_count": null,
   "id": "28ef687d",
   "metadata": {
    "ExecuteTime": {
     "end_time": "2022-09-18T06:23:31.997606Z",
     "start_time": "2022-09-18T06:23:31.997606Z"
    }
   },
   "outputs": [],
   "source": [
    "model.n_outputs_"
   ]
  },
  {
   "cell_type": "code",
   "execution_count": null,
   "id": "bb3adfc3",
   "metadata": {
    "ExecuteTime": {
     "end_time": "2022-09-18T06:23:31.997606Z",
     "start_time": "2022-09-18T06:23:31.997606Z"
    }
   },
   "outputs": [],
   "source": [
    "model.oob_score_"
   ]
  },
  {
   "cell_type": "code",
   "execution_count": null,
   "id": "d1c42018",
   "metadata": {
    "ExecuteTime": {
     "end_time": "2022-09-18T06:23:32.005178Z",
     "start_time": "2022-09-18T06:23:32.005178Z"
    }
   },
   "outputs": [],
   "source": [
    "prediction = model.predict(x_train)"
   ]
  },
  {
   "cell_type": "code",
   "execution_count": null,
   "id": "57a70d64",
   "metadata": {
    "ExecuteTime": {
     "end_time": "2022-09-18T06:23:32.005178Z",
     "start_time": "2022-09-18T06:23:32.005178Z"
    }
   },
   "outputs": [],
   "source": [
    "from sklearn.metrics import accuracy_score\n",
    "accuracy = accuracy_score(y_train,prediction)"
   ]
  },
  {
   "cell_type": "code",
   "execution_count": null,
   "id": "6f009799",
   "metadata": {
    "ExecuteTime": {
     "end_time": "2022-09-18T06:23:32.013529Z",
     "start_time": "2022-09-18T06:23:32.013529Z"
    }
   },
   "outputs": [],
   "source": [
    "np.mean(prediction == y_train)"
   ]
  },
  {
   "cell_type": "code",
   "execution_count": null,
   "id": "84d7575f",
   "metadata": {
    "ExecuteTime": {
     "end_time": "2022-09-18T06:23:32.013529Z",
     "start_time": "2022-09-18T06:23:32.013529Z"
    }
   },
   "outputs": [],
   "source": [
    "from sklearn.metrics import confusion_matrix\n",
    "confusion = confusion_matrix(y_train,prediction)"
   ]
  },
  {
   "cell_type": "code",
   "execution_count": null,
   "id": "916e1720",
   "metadata": {
    "ExecuteTime": {
     "end_time": "2022-09-18T06:23:32.021714Z",
     "start_time": "2022-09-18T06:23:32.021714Z"
    }
   },
   "outputs": [],
   "source": [
    "pred_test = model.predict(x_test)"
   ]
  },
  {
   "cell_type": "code",
   "execution_count": null,
   "id": "ae1b4588",
   "metadata": {
    "ExecuteTime": {
     "end_time": "2022-09-18T06:23:32.021714Z",
     "start_time": "2022-09-18T06:23:32.021714Z"
    }
   },
   "outputs": [],
   "source": [
    "acc_test =accuracy_score(y_test,pred_test)"
   ]
  },
  {
   "cell_type": "code",
   "execution_count": null,
   "id": "a0d8fc35",
   "metadata": {
    "ExecuteTime": {
     "end_time": "2022-09-18T06:23:32.021714Z",
     "start_time": "2022-09-18T06:23:32.021714Z"
    }
   },
   "outputs": [],
   "source": [
    "import six\n",
    "import sys\n",
    "sys.modules['sklearn.externals.six'] = six"
   ]
  },
  {
   "cell_type": "code",
   "execution_count": null,
   "id": "3e95abfc",
   "metadata": {
    "ExecuteTime": {
     "end_time": "2022-09-18T06:23:32.029832Z",
     "start_time": "2022-09-18T06:23:32.029832Z"
    }
   },
   "outputs": [],
   "source": [
    "from sklearn.externals.six import StringIO"
   ]
  },
  {
   "cell_type": "code",
   "execution_count": null,
   "id": "e02ba977",
   "metadata": {
    "ExecuteTime": {
     "end_time": "2022-09-18T06:23:32.037091Z",
     "start_time": "2022-09-18T06:23:32.037091Z"
    }
   },
   "outputs": [],
   "source": [
    "tree = model.estimators_[5]"
   ]
  },
  {
   "cell_type": "code",
   "execution_count": null,
   "id": "00583813",
   "metadata": {
    "ExecuteTime": {
     "end_time": "2022-09-18T06:23:32.039199Z",
     "start_time": "2022-09-18T06:23:32.039199Z"
    }
   },
   "outputs": [],
   "source": [
    "dot_data  StringIO()\n",
    "export_graphviz(tree,out_file = dot_data, filled = True,rounded = True, feature_names = predictors ,class_names = target,impurity =False)"
   ]
  },
  {
   "cell_type": "code",
   "execution_count": null,
   "id": "e3feffda",
   "metadata": {
    "ExecuteTime": {
     "end_time": "2022-09-18T06:23:32.042164Z",
     "start_time": "2022-09-18T06:23:32.042164Z"
    }
   },
   "outputs": [],
   "source": [
    "pip install pydotplus"
   ]
  },
  {
   "cell_type": "code",
   "execution_count": null,
   "id": "f102f036",
   "metadata": {
    "ExecuteTime": {
     "end_time": "2022-09-18T06:23:32.042164Z",
     "start_time": "2022-09-18T06:23:32.042164Z"
    }
   },
   "outputs": [],
   "source": [
    "import pydotplus"
   ]
  },
  {
   "cell_type": "code",
   "execution_count": null,
   "id": "4a7897ee",
   "metadata": {
    "ExecuteTime": {
     "end_time": "2022-09-18T06:23:32.050741Z",
     "start_time": "2022-09-18T06:23:32.050741Z"
    }
   },
   "outputs": [],
   "source": [
    "graph = pydotplus.graph_from_dot_data(dot_data.getvalue())"
   ]
  },
  {
   "cell_type": "code",
   "execution_count": null,
   "id": "cac1b2f1",
   "metadata": {
    "ExecuteTime": {
     "end_time": "2022-09-18T06:23:32.056730Z",
     "start_time": "2022-09-18T06:23:32.056730Z"
    }
   },
   "outputs": [],
   "source": [
    "graph"
   ]
  },
  {
   "cell_type": "code",
   "execution_count": null,
   "id": "e8f406bc",
   "metadata": {},
   "outputs": [],
   "source": []
  }
 ],
 "metadata": {
  "kernelspec": {
   "display_name": "Python 3 (ipykernel)",
   "language": "python",
   "name": "python3"
  },
  "language_info": {
   "codemirror_mode": {
    "name": "ipython",
    "version": 3
   },
   "file_extension": ".py",
   "mimetype": "text/x-python",
   "name": "python",
   "nbconvert_exporter": "python",
   "pygments_lexer": "ipython3",
   "version": "3.9.12"
  }
 },
 "nbformat": 4,
 "nbformat_minor": 5
}
